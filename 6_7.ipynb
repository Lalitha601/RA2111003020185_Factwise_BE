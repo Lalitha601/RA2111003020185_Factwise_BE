{
  "nbformat": 4,
  "nbformat_minor": 0,
  "metadata": {
    "colab": {
      "provenance": [],
      "authorship_tag": "ABX9TyMUbIkffYnngD0C22L/N1Pq",
      "include_colab_link": true
    },
    "kernelspec": {
      "name": "python3",
      "display_name": "Python 3"
    },
    "language_info": {
      "name": "python"
    }
  },
  "cells": [
    {
      "cell_type": "markdown",
      "metadata": {
        "id": "view-in-github",
        "colab_type": "text"
      },
      "source": [
        "<a href=\"https://colab.research.google.com/github/Lalitha601/RA2111003020185_Factwise_BE/blob/main/6_7.ipynb\" target=\"_parent\"><img src=\"https://colab.research.google.com/assets/colab-badge.svg\" alt=\"Open In Colab\"/></a>"
      ]
    },
    {
      "cell_type": "code",
      "execution_count": 11,
      "metadata": {
        "colab": {
          "base_uri": "https://localhost:8080/"
        },
        "id": "DC1swQFfyXXD",
        "outputId": "b2765887-26c5-49d7-8c83-ac102341a50a"
      },
      "outputs": [
        {
          "output_type": "stream",
          "name": "stdout",
          "text": [
            "enter a number : 77\n",
            "12\n"
          ]
        }
      ],
      "source": [
        "def count_letters(n):\n",
        "  letter_counts = {\n",
        "      1:3,2:3,3:5,4:4,5:4,6:3,7:5,8:5,9:4,10:3,11:6,12:6,13:8,14:8,15:7,16:7,17:9,18:8,19:8,20:6,30:6,40:5,50:5,60:5,70:7,80:6,90:6,100:10,1000:11\n",
        "  }\n",
        "  total_letters = 0\n",
        "  hundred_digit= (n//100)%10\n",
        "  tens_digit = (n//10)%10\n",
        "  ones_digit = n%10\n",
        "  if hundred_digit!=0 and tens_digit!=0:\n",
        "    total_letters+=letter_counts.get(hundred_digit*100,0)+letter_counts.get(tens_digit*10,0)+letter_counts.get(ones_digit,0)\n",
        "  elif hundred_digit!=0 and tens_digit==0:\n",
        "    total_letters+=letter_counts.get(hundred_digit*100,0)+letter_counts.get(ones_digit,0)\n",
        "  elif hundred_digit==0 and tens_digit!=0:\n",
        "    total_letters+=letter_counts.get(tens_digit*10,0)+letter_counts.get(ones_digit,0)\n",
        "  elif hundred_digit==0 and tens_digit==0:\n",
        "    total_letters+=letter_counts.get(ones_digit,0)\n",
        "  return total_letters\n",
        "\n",
        "n= int(input(\"enter a number : \"))\n",
        "total_letters = count_letters(n)\n",
        "print(total_letters)"
      ]
    },
    {
      "cell_type": "code",
      "source": [
        "def maxscore(cardpoints, k):\n",
        "  n = len(cardpoints)\n",
        "  if k ==n:\n",
        "    return sum(cardpoints)\n",
        "  leftsum = [0]*(k+1)\n",
        "  rightsum = [0]*(k+1)\n",
        "  for i in range(k):\n",
        "    leftsum[i+1] = leftsum[i]+cardpoints[i]\n",
        "    rightsum[i+1]=rightsum[i]+cardpoints[n-i-1]\n",
        "  maxscore = 0\n",
        "  for i in range(k+1):\n",
        "    maxscore = max(maxscore,leftsum[i]+rightsum[k-i])\n",
        "  return maxscore\n",
        "\n",
        "cardpoints = [1,2,3,4,5,6,1]\n",
        "k=3\n",
        "result = maxscore(cardpoints,k)\n",
        "print(result)"
      ],
      "metadata": {
        "colab": {
          "base_uri": "https://localhost:8080/"
        },
        "id": "RHbv23In1_bQ",
        "outputId": "26168f00-1be1-4f73-c386-7f2235ad3f7f"
      },
      "execution_count": 6,
      "outputs": [
        {
          "output_type": "stream",
          "name": "stdout",
          "text": [
            "12\n"
          ]
        }
      ]
    }
  ]
}